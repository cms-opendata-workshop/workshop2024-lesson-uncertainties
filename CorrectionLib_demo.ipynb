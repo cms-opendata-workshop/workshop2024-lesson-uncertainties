{
 "cells": [
  {
   "cell_type": "code",
   "execution_count": null,
   "id": "9f08e873-80be-48d5-bd52-4b854b8834d5",
   "metadata": {},
   "outputs": [],
   "source": [
    "import matplotlib.pylab as plt\n",
    "import numpy as np\n",
    "import correctionlib"
   ]
  },
  {
   "cell_type": "markdown",
   "id": "f0012940-a42f-49a6-b271-0c032a11db17",
   "metadata": {},
   "source": [
    "### Open a .csv file into an array\n",
    "\n",
    "**Replace the .csv file name below with one that you have in your container.**"
   ]
  },
  {
   "cell_type": "code",
   "execution_count": null,
   "id": "57e8c77c-667f-4992-b7cc-a1dcc304829f",
   "metadata": {},
   "outputs": [],
   "source": [
    "signal = np.genfromtxt('output_signal_22BAB5D2-9E3F-E440-AB30-AE6DBFDF6C83.csv', delimiter=',', names=True, dtype=float)"
   ]
  },
  {
   "cell_type": "markdown",
   "id": "6b59a328-763b-4f64-a139-79dbc3b5b111",
   "metadata": {},
   "source": [
    "### Open a correction file and access the muon tight ID correction"
   ]
  },
  {
   "cell_type": "code",
   "execution_count": null,
   "id": "ed235302-1c88-49df-918f-1bacfd4816ed",
   "metadata": {},
   "outputs": [],
   "source": [
    "import gzip\n",
    "with gzip.open(\"POG/MUO/2016postVFP_UL/muon_Z.json.gz\",'rt') as file:\n",
    "    data = file.read().strip()\n",
    "    evaluator = correctionlib._core.CorrectionSet.from_string(data)\n",
    "    \n",
    "tightIDSF = evaluator[\"NUM_TightID_DEN_TrackerMuons\"]"
   ]
  },
  {
   "cell_type": "markdown",
   "id": "5f238fef-c290-4810-a5b6-3a03eac92131",
   "metadata": {},
   "source": [
    "### Get the input lists we need and evaluate the correction\n",
    "\n",
    "The `evaluate` method in `correctionlib` is used to access specific correction values. \n",
    "In python, this function uses the syntax: `evaluate(input 1, input 2, input 3, ...)`. The inputs should be provided in the order they appear on the summary webpage of the correction. The muon correction we are showing here cannot accept numpy arrays inside the `evaluate` call, so we will iterate over the input arrays."
   ]
  },
  {
   "cell_type": "code",
   "execution_count": null,
   "id": "84bae026-6645-457c-bfb2-e0d55653043d",
   "metadata": {},
   "outputs": [],
   "source": [
    "muon_pt = signal['mu_pt']\n",
    "muon_abseta = signal['mu_abseta']\n",
    "genWeight = signal['weight']"
   ]
  },
  {
   "cell_type": "code",
   "execution_count": null,
   "id": "142ad73f-9565-48ea-a055-1cc7c3dd6e0f",
   "metadata": {},
   "outputs": [],
   "source": [
    "leadmuon_sf = [tightIDSF.evaluate(eta,pt,\"nominal\") for pt,eta in zip(muon_pt,muon_abseta)]\n",
    "leadmuon_sfup = [tightIDSF.evaluate(eta,pt,\"systup\") for pt,eta in zip(muon_pt,muon_abseta)]\n",
    "leadmuon_sfdn = [tightIDSF.evaluate(eta,pt,\"systdown\") for pt,eta in zip(muon_pt,muon_abseta)]"
   ]
  },
  {
   "cell_type": "code",
   "execution_count": null,
   "id": "ed8a68e7-6855-4307-bd4d-c2325e9047cd",
   "metadata": {},
   "outputs": [],
   "source": [
    "print(leadmuon_sf[0:10])\n",
    "print(leadmuon_sfup[0:10])\n",
    "print(leadmuon_sfdn[0:10])"
   ]
  },
  {
   "cell_type": "markdown",
   "id": "917d2cf5-87c9-4084-9e1b-f5b9d908db5e",
   "metadata": {},
   "source": [
    "### Plot the effect of this uncertainty on the Z' mass"
   ]
  },
  {
   "cell_type": "code",
   "execution_count": null,
   "id": "91660770-3142-4090-8d41-a97be40129fa",
   "metadata": {},
   "outputs": [],
   "source": [
    "plt.hist(muon_pt,bins=30,range=(0,600),weights=genWeight*leadmuon_sf,histtype=\"step\",color=\"k\",label=\"nominal\")\n",
    "plt.hist(muon_pt,bins=30,range=(0,600),weights=genWeight*leadmuon_sfup,histtype=\"step\",color=\"r\",label=\"up\")\n",
    "plt.hist(muon_pt,bins=30,range=(0,600),weights=genWeight*leadmuon_sfdn,histtype=\"step\",color=\"b\",label=\"down\")\n",
    "plt.legend()\n",
    "plt.xlabel('muon pT (GeV)')\n",
    "plt.ylabel('events / 20 GeV')\n",
    "plt.show()"
   ]
  },
  {
   "cell_type": "markdown",
   "id": "83c976cd-8185-4257-bd4a-55de091e38d4",
   "metadata": {},
   "source": [
    "### Exercise: implement the pileup correction\n",
    "\n",
    "Try to follow this example to implement the pileup correction and make a new plot!"
   ]
  },
  {
   "cell_type": "code",
   "execution_count": null,
   "id": "a2f7c7e3-bb66-4cde-8154-a32a2c09f441",
   "metadata": {},
   "outputs": [],
   "source": [
    "## Open the pileup correction file and access the correction\n",
    "\n",
    "\n"
   ]
  },
  {
   "cell_type": "code",
   "execution_count": null,
   "id": "ee8b412b-1fb6-4b7d-8ea5-1503a4eaf272",
   "metadata": {},
   "outputs": [],
   "source": [
    "## Get the necessary inputs from the data array and call evaluate\n",
    "\n",
    "\n"
   ]
  },
  {
   "cell_type": "code",
   "execution_count": null,
   "id": "ca7626d0-cead-4f65-91c8-e7f769e080dd",
   "metadata": {},
   "outputs": [],
   "source": [
    "## Plot the Z' mass with the pileup weight applied, and its uncertainty shifts\n",
    "\n",
    "\n"
   ]
  }
 ],
 "metadata": {
  "kernelspec": {
   "display_name": "Python 3 (ipykernel)",
   "language": "python",
   "name": "python3"
  },
  "language_info": {
   "codemirror_mode": {
    "name": "ipython",
    "version": 3
   },
   "file_extension": ".py",
   "mimetype": "text/x-python",
   "name": "python",
   "nbconvert_exporter": "python",
   "pygments_lexer": "ipython3",
   "version": "3.10.5"
  }
 },
 "nbformat": 4,
 "nbformat_minor": 5
}
