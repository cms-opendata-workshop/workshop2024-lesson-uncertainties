{
 "cells": [
  {
   "cell_type": "code",
   "execution_count": 1,
   "id": "71decfca-a0bc-47f3-a438-77af03cbfec2",
   "metadata": {},
   "outputs": [],
   "source": [
    "import matplotlib.pylab as plt\n",
    "import numpy as np\n",
    "import correctionlib"
   ]
  },
  {
   "cell_type": "code",
   "execution_count": 35,
   "id": "985049b5-d907-43ff-943e-27937d595bb4",
   "metadata": {},
   "outputs": [],
   "source": [
    "datadict = {}\n",
    "datadict['signal'] = np.genfromtxt('output_signal_22BAB5D2-9E3F-E440-AB30-AE6DBFDF6C83.csv', delimiter=',', names=True, dtype=float)\n",
    "datadict['tt_semilep'] = np.genfromtxt('output_tt_semilep_08FCB2ED-176B-064B-85AB-37B898773B98.csv', delimiter=',', names=True, dtype=float)\n",
    "datadict['tt_had'] = np.genfromtxt('output_tt_had_009086DB-1E42-7545-9A35-1433EC89D04B.csv', delimiter=',', names=True, dtype=float)"
   ]
  },
  {
   "cell_type": "code",
   "execution_count": 12,
   "id": "c71955de-b939-4ce2-9a97-41fe73fe7859",
   "metadata": {},
   "outputs": [],
   "source": [
    "import gzip\n",
    "with gzip.open(\"POG/LUM/2016postVFP_UL/puWeights.json.gz\",'rt') as file:\n",
    "    data = file.read().strip()\n",
    "    evaluator = correctionlib._core.CorrectionSet.from_string(data)"
   ]
  },
  {
   "cell_type": "code",
   "execution_count": 36,
   "id": "d37ec41e-b12d-4ab5-9b7b-227028a15fc9",
   "metadata": {},
   "outputs": [],
   "source": [
    "hists = {}\n",
    "for sample in datadict.keys():\n",
    "    hists[sample] = {\n",
    "        \"pu\": datadict[sample]['pileup'],\n",
    "        \"genWeight\": datadict[sample]['weight']/np.abs(datadict[sample]['weight']),\n",
    "        \"mtt\": datadict[sample]['mtt'],\n",
    "        \"pu_weight\": [evaluator[\"Collisions16_UltraLegacy_goldenJSON\"].evaluate(n,\"nominal\") for n in datadict[sample]['pileup']],\n",
    "        \"pu_weight_up\": [evaluator[\"Collisions16_UltraLegacy_goldenJSON\"].evaluate(n,\"up\") for n in datadict[sample]['pileup']],\n",
    "        \"pu_weight_dn\": [evaluator[\"Collisions16_UltraLegacy_goldenJSON\"].evaluate(n,\"down\") for n in datadict[sample]['pileup']]\n",
    "    } "
   ]
  },
  {
   "cell_type": "code",
   "execution_count": 37,
   "id": "b58a7c1d-0983-46d1-a3f5-568b5e695deb",
   "metadata": {},
   "outputs": [
    {
     "name": "stdout",
     "output_type": "stream",
     "text": [
      "[ 1.  1.  1.  1.  1.  1.  1.  1.  1.  1.  1.  1.  1.  1.  1.  1.  1.  1.\n",
      "  1.  1.  1.  1.  1.  1.  1.  1.  1.  1.  1.  1.  1.  1.  1.  1.  1.  1.\n",
      "  1.  1.  1.  1.  1.  1. -1.  1.  1.  1.  1.  1.  1.  1.  1. -1.  1.  1.\n",
      "  1.  1.  1.  1.  1.  1.  1.  1.  1.  1.  1.  1.  1.  1.  1.  1.  1.  1.\n",
      "  1.  1.  1.  1.  1.  1.  1.  1.  1.  1.  1.  1.  1.  1.  1.  1.  1.  1.\n",
      "  1.  1.  1. -1.  1.  1.  1.  1.  1.  1. -1.  1.  1.  1.  1.  1.  1.  1.\n",
      "  1.  1.  1.  1.  1.  1.  1.  1.  1.  1.  1.  1.  1.  1.  1.  1.  1.  1.\n",
      "  1.  1.  1.  1.  1.  1.  1.  1.  1.  1.  1.  1.  1.  1.  1.  1.  1.  1.\n",
      "  1.  1.  1.  1.  1.  1.  1.  1.  1. -1.  1.  1.  1.  1.  1.  1.  1.  1.\n",
      "  1.  1.  1.  1.  1.  1.  1.  1.  1.  1.  1.  1.  1.  1.  1.  1.  1.  1.\n",
      "  1.  1.  1.  1.  1.  1.  1.  1.  1. -1.  1.  1.  1.  1.  1.  1.  1.  1.\n",
      "  1.  1.  1.  1.  1.  1. -1.  1.  1.  1.  1.  1.  1.  1.  1.  1.  1.  1.\n",
      "  1.  1.  1.  1.  1.  1. -1.  1.  1.  1.  1.  1.  1.  1.  1.  1.  1.  1.\n",
      "  1.  1.  1.  1.  1.  1.  1.  1.  1.  1.  1.  1.  1.  1.  1.  1.  1.  1.\n",
      "  1.  1.  1.  1.  1.  1.  1.  1.  1.  1.  1.  1.  1.  1.  1.  1.  1.  1.\n",
      "  1.  1.  1.  1.  1.  1.  1.  1.  1.  1.  1.  1.  1.  1.  1.  1.  1.  1.\n",
      "  1.  1.  1.  1.  1.  1.  1.  1.  1.  1.  1.  1.  1.  1.  1.  1.  1.  1.\n",
      "  1.  1.  1.  1.  1.  1.  1.  1.  1.  1. -1.  1.  1.  1.  1.  1.  1.  1.\n",
      "  1.  1.  1.  1.  1.  1.  1.  1.  1.  1.  1.  1.  1.  1.  1.  1.  1.  1.\n",
      "  1.  1.  1.  1.  1.  1.  1.  1.  1. -1.  1.  1.  1.  1.  1.  1.  1.  1.\n",
      "  1.  1.  1.  1.  1.  1.  1.  1.  1.  1.  1.  1.  1.  1.  1.  1.  1.  1.\n",
      "  1.  1.  1.  1.  1. -1.  1.  1.  1.  1.  1.  1.  1.  1.  1.  1.  1.  1.\n",
      "  1.  1.  1.  1.  1.  1.  1.  1.  1.  1. -1.  1.  1.  1.  1.  1.  1.  1.\n",
      "  1.  1.  1.  1.  1.  1. -1.  1.  1.  1.  1.  1.  1.  1.  1.  1.  1.  1.\n",
      "  1.  1.  1.  1.  1.  1.  1.  1.  1.  1. -1.  1.  1.  1.  1.  1.  1.  1.\n",
      "  1.  1.  1.  1.  1.  1.  1.  1.  1.  1.  1.  1.  1.  1.  1.  1.  1.  1.\n",
      "  1.  1.  1.  1.  1.  1.  1.  1. -1.  1.  1.  1.  1.  1.  1.  1.  1.  1.\n",
      "  1.  1.  1.  1.  1.  1.  1.  1.  1.  1.  1.  1.  1. -1.  1.  1.  1.  1.\n",
      "  1.  1.  1.  1.  1.  1.  1.  1.  1.  1.  1.  1.  1.  1.  1.  1.  1.  1.\n",
      "  1.  1.  1.  1.  1.  1.  1.  1.  1.  1.  1.  1.  1.  1.  1.  1.  1.  1.\n",
      "  1.  1.  1.  1.  1.  1.  1.  1.  1.  1.  1.  1.  1.  1.  1.  1.  1.  1.\n",
      "  1.  1.  1.  1.  1.  1.  1.  1.  1.  1.  1.  1.  1.  1.  1.  1.  1.  1.\n",
      "  1.  1.  1.  1.  1.  1.  1.  1.  1.  1.  1.  1.  1.  1.  1.  1.  1.  1.\n",
      "  1.  1. -1.]\n"
     ]
    }
   ],
   "source": [
    "print(hists['tt_semilep']['genWeight'])"
   ]
  },
  {
   "cell_type": "code",
   "execution_count": 38,
   "id": "b661608d-17ca-427c-af1c-15515680b7ee",
   "metadata": {},
   "outputs": [
    {
     "data": {
      "image/png": "[encoded data removed]",
      "text/plain": [
       "<Figure size 432x288 with 1 Axes>"
      ]
     },
     "metadata": {
      "needs_background": "light"
     },
     "output_type": "display_data"
    },
    {
     "data": {
      "image/png": "[encoded data removed]",
      "text/plain": [
       "<Figure size 432x288 with 1 Axes>"
      ]
     },
     "metadata": {
      "needs_background": "light"
     },
     "output_type": "display_data"
    }
   ],
   "source": [
    "plt.hist(hists['signal']['mtt'],\n",
    "         bins=50,range=(0,3000),\n",
    "         weights=hists['signal']['genWeight']*hists['signal']['pu_weight'],\n",
    "         histtype=\"step\",color=\"k\",label=\"nominal\")\n",
    "plt.hist(hists['signal']['mtt'],\n",
    "         bins=50,range=(0,3000),\n",
    "         weights=hists['signal']['genWeight']*hists['signal']['pu_weight_up'],\n",
    "         histtype=\"step\",color=\"r\",label=\"up\")\n",
    "plt.hist(hists['signal']['mtt'],\n",
    "         bins=50,range=(0,3000),\n",
    "         weights=hists['signal']['genWeight']*hists['signal']['pu_weight_dn'],\n",
    "         histtype=\"step\",color=\"b\",label=\"down\")\n",
    "plt.legend()\n",
    "plt.xlabel('ttbar mass (GeV)')\n",
    "plt.ylabel('events / 60 GeV')\n",
    "plt.show()\n",
    "\n",
    "plt.hist(hists['signal']['pu'],\n",
    "         bins=50,range=(0,50),\n",
    "         weights=hists['signal']['genWeight']*hists['signal']['pu_weight'],\n",
    "         histtype=\"step\",color=\"k\",label=\"nominal\")\n",
    "plt.hist(hists['signal']['pu'],\n",
    "         bins=50,range=(0,50),\n",
    "         weights=hists['signal']['genWeight']*hists['signal']['pu_weight_up'],\n",
    "         histtype=\"step\",color=\"r\",label=\"up\")\n",
    "plt.hist(hists['signal']['pu'],\n",
    "         bins=50,range=(0,50),\n",
    "         weights=hists['signal']['genWeight']*hists['signal']['pu_weight_dn'],\n",
    "         histtype=\"step\",color=\"b\",label=\"down\")\n",
    "plt.legend()\n",
    "plt.xlabel('N true interactions')\n",
    "plt.ylabel('events')\n",
    "plt.show()"
   ]
  },
  {
   "cell_type": "markdown",
   "id": "79914572-a209-4282-a37c-3d512e74d399",
   "metadata": {},
   "source": [
    "### Skipping plotting all the things...Matt's job!\n",
    "\n",
    "Saving all the things we want from hists to a ROOT file...let's go to the ROOT container with a pickle file\n",
    "Save your pickle file, then exit the notebook. In your terminal, copy the pickle file to your ROOT container shared folder. Then launch your ROOT container."
   ]
  },
  {
   "cell_type": "code",
   "execution_count": 39,
   "id": "da37f655-a3fd-4999-80a4-b557407e45d4",
   "metadata": {},
   "outputs": [],
   "source": [
    "import pickle"
   ]
  },
  {
   "cell_type": "code",
   "execution_count": 41,
   "id": "9cec9c96-7710-4d28-add7-297d5c4f9cd1",
   "metadata": {},
   "outputs": [],
   "source": [
    "with open('hists_for_ROOT.p','wb') as f:\n",
    "    pickle.dump(hists,f)"
   ]
  },
  {
   "cell_type": "code",
   "execution_count": null,
   "id": "c02ea7c7-c40a-4680-ac4b-d3a4bc28337c",
   "metadata": {},
   "outputs": [],
   "source": []
  }
 ],
 "metadata": {
  "kernelspec": {
   "display_name": "Python 3 (ipykernel)",
   "language": "python",
   "name": "python3"
  },
  "language_info": {
   "codemirror_mode": {
    "name": "ipython",
    "version": 3
   },
   "file_extension": ".py",
   "mimetype": "text/x-python",
   "name": "python",
   "nbconvert_exporter": "python",
   "pygments_lexer": "ipython3",
   "version": "3.10.5"
  }
 },
 "nbformat": 4,
 "nbformat_minor": 5
}
