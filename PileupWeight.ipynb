{
 "cells": [
  {
   "cell_type": "code",
   "execution_count": 1,
   "id": "71decfca-a0bc-47f3-a438-77af03cbfec2",
   "metadata": {},
   "outputs": [],
   "source": [
    "import matplotlib.pylab as plt\n",
    "import numpy as np\n",
    "import correctionlib"
   ]
  },
  {
   "cell_type": "code",
   "execution_count": 2,
   "id": "985049b5-d907-43ff-943e-27937d595bb4",
   "metadata": {},
   "outputs": [],
   "source": [
    "signal = np.genfromtxt('output_signal_22BAB5D2-9E3F-E440-AB30-AE6DBFDF6C83.csv', delimiter=',', names=True, dtype=float)"
   ]
  },
  {
   "cell_type": "code",
   "execution_count": 3,
   "id": "750ae5a6-e732-48c6-9cb7-200335f19bcf",
   "metadata": {},
   "outputs": [],
   "source": [
    "pu = signal['pileup']"
   ]
  },
  {
   "cell_type": "code",
   "execution_count": 4,
   "id": "c71955de-b939-4ce2-9a97-41fe73fe7859",
   "metadata": {},
   "outputs": [],
   "source": [
    "import gzip\n",
    "with gzip.open(\"puWeights.json.gz\",'rt') as file:\n",
    "    data = file.read().strip()\n",
    "    evaluator = correctionlib._core.CorrectionSet.from_string(data)"
   ]
  },
  {
   "cell_type": "code",
   "execution_count": 5,
   "id": "d37ec41e-b12d-4ab5-9b7b-227028a15fc9",
   "metadata": {},
   "outputs": [],
   "source": [
    "pu_weight = [evaluator[\"Collisions16_UltraLegacy_goldenJSON\"].evaluate(n,\"nominal\") for n in pu]\n",
    "pu_weight_up = [evaluator[\"Collisions16_UltraLegacy_goldenJSON\"].evaluate(n,\"up\") for n in pu]\n",
    "pu_weight_dn = [evaluator[\"Collisions16_UltraLegacy_goldenJSON\"].evaluate(n,\"down\") for n in pu]"
   ]
  },
  {
   "cell_type": "code",
   "execution_count": 6,
   "id": "bac2bbaf-e958-4b09-9c59-92e298016b14",
   "metadata": {},
   "outputs": [
    {
     "name": "stdout",
     "output_type": "stream",
     "text": [
      "[0.7567679680738364, 0.8593328363067397, 1.4061346042290674, 1.007034405057875, 0.7153514947652074, 1.7192023487130677, 0.6691239894113046, 0.48561422492768475, 0.23169380388508315, 1.1189639109785383]\n",
      "[0.6599899866706512, 0.7897906760969897, 1.4638659106412073, 0.95153725679421, 0.60152059743616, 2.016799460806741, 0.5419679508258012, 0.33699404906991004, 0.13537016420651918, 1.0912140118284737]\n",
      "[0.852068241928513, 0.9345493780730356, 1.2984183162301162, 1.0479929394038667, 0.8320442645349115, 1.3632348900165596, 0.8108377733378852, 0.6781905137733656, 0.3929511033769083, 1.1300726188624517]\n"
     ]
    }
   ],
   "source": [
    "print(pu_weight[0:10])\n",
    "print(pu_weight_up[0:10])\n",
    "print(pu_weight_dn[0:10])"
   ]
  },
  {
   "cell_type": "code",
   "execution_count": null,
   "id": "b661608d-17ca-427c-af1c-15515680b7ee",
   "metadata": {},
   "outputs": [],
   "source": []
  }
 ],
 "metadata": {
  "kernelspec": {
   "display_name": "Python 3 (ipykernel)",
   "language": "python",
   "name": "python3"
  },
  "language_info": {
   "codemirror_mode": {
    "name": "ipython",
    "version": 3
   },
   "file_extension": ".py",
   "mimetype": "text/x-python",
   "name": "python",
   "nbconvert_exporter": "python",
   "pygments_lexer": "ipython3",
   "version": "3.10.5"
  }
 },
 "nbformat": 4,
 "nbformat_minor": 5
}
