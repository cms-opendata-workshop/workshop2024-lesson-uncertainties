{
 "cells": [
  {
   "cell_type": "code",
   "execution_count": 2,
   "id": "9f08e873-80be-48d5-bd52-4b854b8834d5",
   "metadata": {},
   "outputs": [],
   "source": [
    "import matplotlib.pylab as plt\n",
    "import numpy as np\n",
    "import correctionlib"
   ]
  },
  {
   "cell_type": "code",
   "execution_count": 5,
   "id": "57e8c77c-667f-4992-b7cc-a1dcc304829f",
   "metadata": {},
   "outputs": [],
   "source": [
    "signal = np.genfromtxt('output_signal_22BAB5D2-9E3F-E440-AB30-AE6DBFDF6C83.csv', delimiter=',', names=True, dtype=float)"
   ]
  },
  {
   "cell_type": "code",
   "execution_count": 12,
   "id": "ba7f71d9-ba9a-43bf-bb7e-d641ac918970",
   "metadata": {},
   "outputs": [],
   "source": [
    "muon_pt = signal['mu_pt']\n",
    "muon_abseta = signal['mu_abseta']"
   ]
  },
  {
   "cell_type": "code",
   "execution_count": 13,
   "id": "ed235302-1c88-49df-918f-1bacfd4816ed",
   "metadata": {},
   "outputs": [],
   "source": [
    "import gzip\n",
    "with gzip.open(\"muon_Z.json.gz\",'rt') as file:\n",
    "    data = file.read().strip()\n",
    "    evaluator = correctionlib._core.CorrectionSet.from_string(data)"
   ]
  },
  {
   "cell_type": "code",
   "execution_count": 14,
   "id": "cb9e8959-cc37-4e3e-83ac-55a112869d06",
   "metadata": {},
   "outputs": [],
   "source": [
    "tightIDSF = evaluator[\"NUM_TightID_DEN_TrackerMuons\"]"
   ]
  },
  {
   "cell_type": "code",
   "execution_count": 15,
   "id": "84bae026-6645-457c-bfb2-e0d55653043d",
   "metadata": {},
   "outputs": [],
   "source": [
    "leadmuon_sf = [tightIDSF.evaluate(eta,pt,\"nominal\") for pt,eta in zip(muon_pt,muon_abseta)]"
   ]
  },
  {
   "cell_type": "code",
   "execution_count": 16,
   "id": "142ad73f-9565-48ea-a055-1cc7c3dd6e0f",
   "metadata": {},
   "outputs": [],
   "source": [
    "leadmuon_sfup = [tightIDSF.evaluate(eta,pt,\"systup\") for pt,eta in zip(muon_pt,muon_abseta)]\n",
    "leadmuon_sfdn = [tightIDSF.evaluate(eta,pt,\"systdown\") for pt,eta in zip(muon_pt,muon_abseta)]"
   ]
  },
  {
   "cell_type": "code",
   "execution_count": 17,
   "id": "ed8a68e7-6855-4307-bd4d-c2325e9047cd",
   "metadata": {},
   "outputs": [
    {
     "name": "stdout",
     "output_type": "stream",
     "text": [
      "[0.9846264481111426, 0.9846264481111426, 0.9846264481111426, 0.9846264481111426, 0.9904946666670156, 0.9904946666670156, 0.9846264481111426, 0.9846264481111426, 0.9904946666670156, 0.9846264481111426]\n",
      "[0.987125002975192, 0.987125002975192, 0.987125002975192, 0.987125002975192, 0.993718633147916, 0.993718633147916, 0.987125002975192, 0.987125002975192, 0.993718633147916, 0.987125002975192]\n",
      "[0.9821278932470932, 0.9821278932470932, 0.9821278932470932, 0.9821278932470932, 0.9872707001861148, 0.9872707001861148, 0.9821278932470932, 0.9821278932470932, 0.9872707001861148, 0.9821278932470932]\n"
     ]
    }
   ],
   "source": [
    "print(leadmuon_sf[0:10])\n",
    "print(leadmuon_sfup[0:10])\n",
    "print(leadmuon_sfdn[0:10])"
   ]
  },
  {
   "cell_type": "code",
   "execution_count": null,
   "id": "7922fbc8-43de-42d0-9b69-20772fca663a",
   "metadata": {},
   "outputs": [],
   "source": []
  }
 ],
 "metadata": {
  "kernelspec": {
   "display_name": "Python 3 (ipykernel)",
   "language": "python",
   "name": "python3"
  },
  "language_info": {
   "codemirror_mode": {
    "name": "ipython",
    "version": 3
   },
   "file_extension": ".py",
   "mimetype": "text/x-python",
   "name": "python",
   "nbconvert_exporter": "python",
   "pygments_lexer": "ipython3",
   "version": "3.10.5"
  }
 },
 "nbformat": 4,
 "nbformat_minor": 5
}
