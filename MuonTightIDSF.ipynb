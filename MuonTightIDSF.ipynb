{
 "cells": [
  {
   "cell_type": "code",
   "execution_count": 2,
   "id": "a267ee8f-6105-4c42-a51d-b2d51f207904",
   "metadata": {},
   "outputs": [
    {
     "name": "stdout",
     "output_type": "stream",
     "text": [
      "Collecting correctionlib\n",
      "  Downloading correctionlib-2.6.1-cp310-cp310-manylinux_2_17_x86_64.manylinux2014_x86_64.whl (465 kB)\n",
      "\u001b[2K     \u001b[90m━━━━━━━━━━━━━━━━━━━━━━━━━━━━━━━━━━━━━━━\u001b[0m \u001b[32m465.7/465.7 kB\u001b[0m \u001b[31m4.5 MB/s\u001b[0m eta \u001b[36m0:00:00\u001b[0ma \u001b[36m0:00:01\u001b[0m\n",
      "\u001b[?25hCollecting pydantic>=2\n",
      "  Downloading pydantic-2.8.2-py3-none-any.whl (423 kB)\n",
      "\u001b[2K     \u001b[90m━━━━━━━━━━━━━━━━━━━━━━━━━━━━━━━━━━━━━━\u001b[0m \u001b[32m423.9/423.9 kB\u001b[0m \u001b[31m16.1 MB/s\u001b[0m eta \u001b[36m0:00:00\u001b[0m\n",
      "\u001b[?25hRequirement already satisfied: numpy>=1.13.3 in /usr/local/venv/lib/python3.10/site-packages (from correctionlib) (1.23.1)\n",
      "Collecting rich\n",
      "  Downloading rich-13.7.1-py3-none-any.whl (240 kB)\n",
      "\u001b[2K     \u001b[90m━━━━━━━━━━━━━━━━━━━━━━━━━━━━━━━━━━━━━━\u001b[0m \u001b[32m240.7/240.7 kB\u001b[0m \u001b[31m19.1 MB/s\u001b[0m eta \u001b[36m0:00:00\u001b[0m\n",
      "\u001b[?25hRequirement already satisfied: packaging in /usr/local/venv/lib/python3.10/site-packages (from correctionlib) (21.3)\n",
      "Collecting annotated-types>=0.4.0\n",
      "  Downloading annotated_types-0.7.0-py3-none-any.whl (13 kB)\n",
      "Collecting pydantic-core==2.20.1\n",
      "  Downloading pydantic_core-2.20.1-cp310-cp310-manylinux_2_17_x86_64.manylinux2014_x86_64.whl (2.1 MB)\n",
      "\u001b[2K     \u001b[90m━━━━━━━━━━━━━━━━━━━━━━━━━━━━━━━━━━━━━━━━\u001b[0m \u001b[32m2.1/2.1 MB\u001b[0m \u001b[31m19.7 MB/s\u001b[0m eta \u001b[36m0:00:00\u001b[0ma \u001b[36m0:00:01\u001b[0m\n",
      "\u001b[?25hCollecting typing-extensions>=4.6.1\n",
      "  Downloading typing_extensions-4.12.2-py3-none-any.whl (37 kB)\n",
      "Requirement already satisfied: pyparsing!=3.0.5,>=2.0.2 in /usr/local/venv/lib/python3.10/site-packages (from packaging->correctionlib) (3.0.9)\n",
      "Collecting pygments<3.0.0,>=2.13.0\n",
      "  Downloading pygments-2.18.0-py3-none-any.whl (1.2 MB)\n",
      "\u001b[2K     \u001b[90m━━━━━━━━━━━━━━━━━━━━━━━━━━━━━━━━━━━━━━━━\u001b[0m \u001b[32m1.2/1.2 MB\u001b[0m \u001b[31m21.4 MB/s\u001b[0m eta \u001b[36m0:00:00\u001b[0ma \u001b[36m0:00:01\u001b[0m\n",
      "\u001b[?25hCollecting markdown-it-py>=2.2.0\n",
      "  Downloading markdown_it_py-3.0.0-py3-none-any.whl (87 kB)\n",
      "\u001b[2K     \u001b[90m━━━━━━━━━━━━━━━━━━━━━━━━━━━━━━━━━━━━━━━━\u001b[0m \u001b[32m87.5/87.5 kB\u001b[0m \u001b[31m14.6 MB/s\u001b[0m eta \u001b[36m0:00:00\u001b[0m\n",
      "\u001b[?25hCollecting mdurl~=0.1\n",
      "  Downloading mdurl-0.1.2-py3-none-any.whl (10.0 kB)\n",
      "Installing collected packages: typing-extensions, pygments, mdurl, annotated-types, pydantic-core, markdown-it-py, rich, pydantic, correctionlib\n",
      "  Attempting uninstall: pygments\n",
      "    Found existing installation: Pygments 2.12.0\n",
      "    Uninstalling Pygments-2.12.0:\n",
      "      Successfully uninstalled Pygments-2.12.0\n",
      "Successfully installed annotated-types-0.7.0 correctionlib-2.6.1 markdown-it-py-3.0.0 mdurl-0.1.2 pydantic-2.8.2 pydantic-core-2.20.1 pygments-2.18.0 rich-13.7.1 typing-extensions-4.12.2\n",
      "\n",
      "\u001b[1m[\u001b[0m\u001b[34;49mnotice\u001b[0m\u001b[1;39;49m]\u001b[0m\u001b[39;49m A new release of pip available: \u001b[0m\u001b[31;49m22.1.2\u001b[0m\u001b[39;49m -> \u001b[0m\u001b[32;49m24.1.2\u001b[0m\n",
      "\u001b[1m[\u001b[0m\u001b[34;49mnotice\u001b[0m\u001b[1;39;49m]\u001b[0m\u001b[39;49m To update, run: \u001b[0m\u001b[32;49mpip install --upgrade pip\u001b[0m\n"
     ]
    }
   ],
   "source": [
    "# Only if not installed yet!\n",
    "#!python3 -m pip install correctionlib"
   ]
  },
  {
   "cell_type": "code",
   "execution_count": 3,
   "id": "9f08e873-80be-48d5-bd52-4b854b8834d5",
   "metadata": {},
   "outputs": [],
   "source": [
    "import matplotlib.pylab as plt\n",
    "import numpy as np\n",
    "import correctionlib"
   ]
  },
  {
   "cell_type": "code",
   "execution_count": 4,
   "id": "57e8c77c-667f-4992-b7cc-a1dcc304829f",
   "metadata": {},
   "outputs": [],
   "source": [
    "signal = np.genfromtxt('output_signal_22BAB5D2-9E3F-E440-AB30-AE6DBFDF6C83.csv', delimiter=',', names=True, dtype=float)"
   ]
  },
  {
   "cell_type": "code",
   "execution_count": 5,
   "id": "ba7f71d9-ba9a-43bf-bb7e-d641ac918970",
   "metadata": {},
   "outputs": [],
   "source": [
    "muon_pt = signal['mu_pt']\n",
    "muon_abseta = signal['mu_abseta']\n",
    "genWeight = signal['weight']"
   ]
  },
  {
   "cell_type": "code",
   "execution_count": 7,
   "id": "e3cc4cbb-03d8-4ce8-9953-814cefaa3a88",
   "metadata": {},
   "outputs": [
    {
     "name": "stdout",
     "output_type": "stream",
     "text": [
      "[10.01MB/10.01MB][100%][==================================================][2.502MB/s]  \n"
     ]
    }
   ],
   "source": [
    "!xrdcp root://eospublic.cern.ch//eos/opendata/cms/upload/jsonpog-integration-2016post.tar ."
   ]
  },
  {
   "cell_type": "code",
   "execution_count": 8,
   "id": "57dd0ea0-539a-4e13-959f-39c46f8297d9",
   "metadata": {},
   "outputs": [],
   "source": [
    "!tar -xf jsonpog-integration-2016post.tar"
   ]
  },
  {
   "cell_type": "code",
   "execution_count": 9,
   "id": "ed235302-1c88-49df-918f-1bacfd4816ed",
   "metadata": {},
   "outputs": [],
   "source": [
    "import gzip\n",
    "with gzip.open(\"POG/MUO/2016postVFP_UL/muon_Z.json.gz\",'rt') as file:\n",
    "    data = file.read().strip()\n",
    "    evaluator = correctionlib._core.CorrectionSet.from_string(data)"
   ]
  },
  {
   "cell_type": "code",
   "execution_count": 10,
   "id": "cb9e8959-cc37-4e3e-83ac-55a112869d06",
   "metadata": {},
   "outputs": [],
   "source": [
    "tightIDSF = evaluator[\"NUM_TightID_DEN_TrackerMuons\"]"
   ]
  },
  {
   "cell_type": "code",
   "execution_count": 11,
   "id": "84bae026-6645-457c-bfb2-e0d55653043d",
   "metadata": {},
   "outputs": [],
   "source": [
    "leadmuon_sf = [tightIDSF.evaluate(eta,pt,\"nominal\") for pt,eta in zip(muon_pt,muon_abseta)]"
   ]
  },
  {
   "cell_type": "code",
   "execution_count": 12,
   "id": "142ad73f-9565-48ea-a055-1cc7c3dd6e0f",
   "metadata": {},
   "outputs": [],
   "source": [
    "leadmuon_sfup = [tightIDSF.evaluate(eta,pt,\"systup\") for pt,eta in zip(muon_pt,muon_abseta)]\n",
    "leadmuon_sfdn = [tightIDSF.evaluate(eta,pt,\"systdown\") for pt,eta in zip(muon_pt,muon_abseta)]"
   ]
  },
  {
   "cell_type": "code",
   "execution_count": 13,
   "id": "ed8a68e7-6855-4307-bd4d-c2325e9047cd",
   "metadata": {},
   "outputs": [
    {
     "name": "stdout",
     "output_type": "stream",
     "text": [
      "[0.9846264481111426, 0.9846264481111426, 0.9846264481111426, 0.9846264481111426, 0.9904946666670156, 0.9904946666670156, 0.9846264481111426, 0.9846264481111426, 0.9904946666670156, 0.9846264481111426]\n",
      "[0.987125002975192, 0.987125002975192, 0.987125002975192, 0.987125002975192, 0.993718633147916, 0.993718633147916, 0.987125002975192, 0.987125002975192, 0.993718633147916, 0.987125002975192]\n",
      "[0.9821278932470932, 0.9821278932470932, 0.9821278932470932, 0.9821278932470932, 0.9872707001861148, 0.9872707001861148, 0.9821278932470932, 0.9821278932470932, 0.9872707001861148, 0.9821278932470932]\n"
     ]
    }
   ],
   "source": [
    "print(leadmuon_sf[0:10])\n",
    "print(leadmuon_sfup[0:10])\n",
    "print(leadmuon_sfdn[0:10])"
   ]
  },
  {
   "cell_type": "code",
   "execution_count": 21,
   "id": "7922fbc8-43de-42d0-9b69-20772fca663a",
   "metadata": {},
   "outputs": [
    {
     "data": {
      "image/png": "[encoded data removed]",
      "text/plain": [
       "<Figure size 432x288 with 1 Axes>"
      ]
     },
     "metadata": {
      "needs_background": "light"
     },
     "output_type": "display_data"
    }
   ],
   "source": [
    "plt.hist(muon_pt,bins=30,range=(0,600),weights=genWeight*leadmuon_sf,histtype=\"step\",color=\"k\",label=\"nominal\")\n",
    "plt.hist(muon_pt,bins=30,range=(0,600),weights=genWeight*leadmuon_sfup,histtype=\"step\",color=\"r\",label=\"up\")\n",
    "plt.hist(muon_pt,bins=30,range=(0,600),weights=genWeight*leadmuon_sfdn,histtype=\"step\",color=\"b\",label=\"down\")\n",
    "plt.legend()\n",
    "plt.xlabel('muon pT (GeV)')\n",
    "plt.ylabel('events / 20 GeV')\n",
    "plt.show()"
   ]
  },
  {
   "cell_type": "code",
   "execution_count": null,
   "id": "991adfc7-94be-4bcd-906f-d808f540d7ef",
   "metadata": {},
   "outputs": [],
   "source": []
  }
 ],
 "metadata": {
  "kernelspec": {
   "display_name": "Python 3 (ipykernel)",
   "language": "python",
   "name": "python3"
  },
  "language_info": {
   "codemirror_mode": {
    "name": "ipython",
    "version": 3
   },
   "file_extension": ".py",
   "mimetype": "text/x-python",
   "name": "python",
   "nbconvert_exporter": "python",
   "pygments_lexer": "ipython3",
   "version": "3.10.5"
  }
 },
 "nbformat": 4,
 "nbformat_minor": 5
}
