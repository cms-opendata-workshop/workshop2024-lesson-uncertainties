{
 "cells": [
  {
   "cell_type": "code",
   "execution_count": 1,
   "id": "75ff4a14-39c3-4988-8240-a80de62436b4",
   "metadata": {},
   "outputs": [
    {
     "name": "stdout",
     "output_type": "stream",
     "text": [
      "Collecting vector\n",
      "  Downloading vector-1.4.1-py3-none-any.whl (182 kB)\n",
      "\u001b[2K     \u001b[90m━━━━━━━━━━━━━━━━━━━━━━━━━━━━━━━━━━━━━━━\u001b[0m \u001b[32m182.6/182.6 kB\u001b[0m \u001b[31m6.5 MB/s\u001b[0m eta \u001b[36m0:00:00\u001b[0m\n",
      "\u001b[?25hRequirement already satisfied: packaging>=19 in /usr/local/venv/lib/python3.10/site-packages (from vector) (21.3)\n",
      "Requirement already satisfied: numpy>=1.13.3 in /usr/local/venv/lib/python3.10/site-packages (from vector) (1.23.1)\n",
      "Requirement already satisfied: pyparsing!=3.0.5,>=2.0.2 in /usr/local/venv/lib/python3.10/site-packages (from packaging>=19->vector) (3.0.9)\n",
      "Installing collected packages: vector\n",
      "Successfully installed vector-1.4.1\n",
      "\n",
      "\u001b[1m[\u001b[0m\u001b[34;49mnotice\u001b[0m\u001b[1;39;49m]\u001b[0m\u001b[39;49m A new release of pip available: \u001b[0m\u001b[31;49m22.1.2\u001b[0m\u001b[39;49m -> \u001b[0m\u001b[32;49m24.1.2\u001b[0m\n",
      "\u001b[1m[\u001b[0m\u001b[34;49mnotice\u001b[0m\u001b[1;39;49m]\u001b[0m\u001b[39;49m To update, run: \u001b[0m\u001b[32;49mpip install --upgrade pip\u001b[0m\n",
      "Collecting pandas\n",
      "  Downloading pandas-2.2.2-cp310-cp310-manylinux_2_17_x86_64.manylinux2014_x86_64.whl (13.0 MB)\n",
      "\u001b[2K     \u001b[90m━━━━━━━━━━━━━━━━━━━━━━━━━━━━━━━━━━━━━━━━\u001b[0m \u001b[32m13.0/13.0 MB\u001b[0m \u001b[31m24.5 MB/s\u001b[0m eta \u001b[36m0:00:00\u001b[0m00:01\u001b[0m00:01\u001b[0m\n",
      "\u001b[?25hRequirement already satisfied: python-dateutil>=2.8.2 in /usr/local/venv/lib/python3.10/site-packages (from pandas) (2.8.2)\n",
      "Requirement already satisfied: numpy>=1.22.4 in /usr/local/venv/lib/python3.10/site-packages (from pandas) (1.23.1)\n",
      "Collecting tzdata>=2022.7\n",
      "  Downloading tzdata-2024.1-py2.py3-none-any.whl (345 kB)\n",
      "\u001b[2K     \u001b[90m━━━━━━━━━━━━━━━━━━━━━━━━━━━━━━━━━━━━━━\u001b[0m \u001b[32m345.4/345.4 kB\u001b[0m \u001b[31m15.0 MB/s\u001b[0m eta \u001b[36m0:00:00\u001b[0m\n",
      "\u001b[?25hRequirement already satisfied: pytz>=2020.1 in /usr/local/venv/lib/python3.10/site-packages (from pandas) (2022.1)\n",
      "Requirement already satisfied: six>=1.5 in /usr/local/venv/lib/python3.10/site-packages (from python-dateutil>=2.8.2->pandas) (1.16.0)\n",
      "Installing collected packages: tzdata, pandas\n",
      "Successfully installed pandas-2.2.2 tzdata-2024.1\n",
      "\n",
      "\u001b[1m[\u001b[0m\u001b[34;49mnotice\u001b[0m\u001b[1;39;49m]\u001b[0m\u001b[39;49m A new release of pip available: \u001b[0m\u001b[31;49m22.1.2\u001b[0m\u001b[39;49m -> \u001b[0m\u001b[32;49m24.1.2\u001b[0m\n",
      "\u001b[1m[\u001b[0m\u001b[34;49mnotice\u001b[0m\u001b[1;39;49m]\u001b[0m\u001b[39;49m To update, run: \u001b[0m\u001b[32;49mpip install --upgrade pip\u001b[0m\n"
     ]
    }
   ],
   "source": [
    "!pip install vector\n",
    "!pip install pandas"
   ]
  },
  {
   "cell_type": "code",
   "execution_count": 2,
   "id": "6f12e503-0301-4d26-9122-9cceff810376",
   "metadata": {},
   "outputs": [],
   "source": [
    "# The classics\n",
    "import numpy as np\n",
    "import matplotlib.pylab as plt\n",
    "import matplotlib # To get the version\n",
    "\n",
    "import pandas as pd\n",
    "\n",
    "# The newcomers\n",
    "import awkward as ak\n",
    "import uproot\n",
    "\n",
    "import vector\n",
    "vector.register_awkward()"
   ]
  },
  {
   "cell_type": "code",
   "execution_count": 85,
   "id": "bf1decbf-98e2-4138-922d-3dde1456a752",
   "metadata": {},
   "outputs": [
    {
     "name": "stdout",
     "output_type": "stream",
     "text": [
      "nevents = 1233000\n"
     ]
    }
   ],
   "source": [
    "####### Backgrounds\n",
    "# W+jets\n",
    "#dataset = \"Wjets\"\n",
    "#filename = 'root://eospublic.cern.ch//eos/opendata/cms/mc/RunIISummer20UL16NanoAODv9/WJetsToLNu_TuneCP5_13TeV-madgraphMLM-pythia8/NANOAODSIM/106X_mcRun2_asymptotic_v17-v1/270000/00702195-E707-3743-8BBA-57EB9DEE1DBA.root'\n",
    "\n",
    "# ttbar leptonic\n",
    "#dataset = \"tt_lep\"\n",
    "#filename = 'root://eospublic.cern.ch//eos/opendata/cms/mc/RunIIFall15MiniAODv2/TTTo2L2Nu_13TeV-powheg/MINIAODSIM/PU25nsData2015v1_76X_mcRun2_asymptotic_v12-v1/00000/02A468DA-E8B9-E511-942C-0022195E688C.root'\n",
    "\n",
    "# ttbar hadronic\n",
    "#dataset = \"tt_had\"\n",
    "#filename = 'root://eospublic.cern.ch//eos/opendata/cms/mc/RunIISummer20UL16NanoAODv9/TTToHadronic_TuneCP5_13TeV-powheg-pythia8/NANOAODSIM/106X_mcRun2_asymptotic_v17-v1/130000/009086DB-1E42-7545-9A35-1433EC89D04B.root'\n",
    "\n",
    "# ttbar semileptonic\n",
    "dataset = \"tt_semilep\"\n",
    "filename = 'root://eospublic.cern.ch//eos/opendata/cms/mc/RunIISummer20UL16NanoAODv9/TTToSemiLeptonic_TuneCP5_13TeV-powheg-pythia8/NANOAODSIM/106X_mcRun2_asymptotic_v17-v1/120000/08FCB2ED-176B-064B-85AB-37B898773B98.root'\n",
    "\n",
    "\n",
    "########### Signal\n",
    "#dataset = 'signal'\n",
    "#filename = 'root://eospublic.cern.ch//eos/opendata/cms/mc/RunIISummer20UL16NanoAODv9/ZprimeToTT_M2000_W20_TuneCP2_PSweights_13TeV-madgraph-pythiaMLM-pythia8/NANOAODSIM/106X_mcRun2_asymptotic_v17-v1/270000/22BAB5D2-9E3F-E440-AB30-AE6DBFDF6C83.root'\n",
    "\n",
    "\n",
    "# Open the file \n",
    "f = uproot.open(filename)\n",
    "\n",
    "events = f['Events']\n",
    "\n",
    "nevents = events.num_entries\n",
    "\n",
    "print(f\"{nevents = }\")"
   ]
  },
  {
   "cell_type": "code",
   "execution_count": 86,
   "id": "68bd909a-b1f5-48c4-b28d-dde9515ac666",
   "metadata": {},
   "outputs": [],
   "source": [
    "fatjet_tag = events['FatJet_particleNet_TvsQCD'].array()\n",
    "\n",
    "fatjet_pt = events['FatJet_pt'].array()\n",
    "fatjet_eta = events['FatJet_eta'].array()\n",
    "fatjet_phi = events['FatJet_phi'].array()\n",
    "fatjet_mass = events['FatJet_mass'].array()"
   ]
  },
  {
   "cell_type": "code",
   "execution_count": 87,
   "id": "abf116fd-e3ac-4e1f-8025-99763c6b41a5",
   "metadata": {},
   "outputs": [],
   "source": [
    "muon_pt = events['Muon_pt'].array()\n",
    "muon_eta = events['Muon_eta'].array()\n",
    "muon_phi = events['Muon_phi'].array()\n",
    "muon_mass = events['Muon_mass'].array()\n",
    "\n",
    "muon_iso = events['Muon_miniIsoId'].array()\n",
    "muon_tightId = events['Muon_tightId'].array()"
   ]
  },
  {
   "cell_type": "code",
   "execution_count": 88,
   "id": "07fa847c-78f7-4708-8282-bc7396a2a6ca",
   "metadata": {},
   "outputs": [],
   "source": [
    "jet_btag = events['Jet_btagDeepB'].array()\n",
    "jet_jetid = events['Jet_jetId'].array()\n",
    "\n",
    "jet_pt = events['Jet_pt'].array()\n",
    "jet_eta = events['Jet_eta'].array()\n",
    "jet_phi = events['Jet_phi'].array()\n",
    "jet_mass = events['Jet_mass'].array()"
   ]
  },
  {
   "cell_type": "code",
   "execution_count": 89,
   "id": "f8c61943-07a0-4e24-bb74-91d9213f84bc",
   "metadata": {},
   "outputs": [],
   "source": [
    "met_pt = events['PuppiMET_pt'].array()\n",
    "met_eta = 0*events['PuppiMET_pt'].array()  # Fix this to be 0\n",
    "met_phi = events['PuppiMET_phi'].array() \n",
    "\n",
    "ht_lep = muon_pt + met_pt"
   ]
  },
  {
   "cell_type": "code",
   "execution_count": 90,
   "id": "7fe68243-57fb-41e7-9fe2-0f611faa5bc0",
   "metadata": {},
   "outputs": [
    {
     "name": "stdout",
     "output_type": "stream",
     "text": [
      "597\n"
     ]
    }
   ],
   "source": [
    "# Cuts\n",
    "tau32 = fatjet_tau3/fatjet_tau2\n",
    "\n",
    "#cut_fatjet = (tau32>0.67) & (fatjet_eta>-2.4) & (fatjet_eta<2.4) & (fatjet_mSD>105) & (fatjet_mSD<220)\n",
    "cut_fatjet = (fatjet_pt > 500) & (fatjet_tag > 0.5)\n",
    "\n",
    "cut_muon = (muon_pt>55) & (muon_eta>-2.4) & (muon_eta<2.4) & \\\n",
    "           (muon_tightId == True) & (muon_iso>1) & (ht_lep>150)\n",
    "\n",
    "cut_jet = (jet_btag > 0.5) & (jet_jetid>=4)\n",
    "\n",
    "\n",
    "\n",
    "# Event cut\n",
    "cut_met = (met_pt > 50)\n",
    "\n",
    "cut_nmuons = (ak.num(cut_muon[cut_muon]) == 1)\n",
    "\n",
    "cut_trigger = (events['HLT_TkMu50'].array())\n",
    "\n",
    "cut_btag = (ak.num(cut_jet[cut_jet]) > 0)\n",
    "\n",
    "cut_ntop = (ak.num(cut_fatjet[cut_fatjet]) == 1)\n",
    "\n",
    "cut_full_event = cut_trigger & cut_nmuons & cut_met & cut_ntop & cut_btag\n",
    "print(ak.sum(cut_full_event))"
   ]
  },
  {
   "cell_type": "code",
   "execution_count": 91,
   "id": "f314e39a-4871-472d-ae5d-409bebe857d8",
   "metadata": {},
   "outputs": [],
   "source": [
    "fatjets = ak.zip(\n",
    "    {\"pt\": fatjet_pt[cut_full_event][cut_fatjet[cut_full_event]], \n",
    "     \"eta\": fatjet_eta[cut_full_event][cut_fatjet[cut_full_event]], \n",
    "     \"phi\": fatjet_phi[cut_full_event][cut_fatjet[cut_full_event]], \n",
    "     \"mass\": fatjet_mass[cut_full_event][cut_fatjet[cut_full_event]]},\n",
    "    with_name=\"Momentum4D\",\n",
    ")\n",
    "\n",
    "muons = ak.zip(\n",
    "    {\"pt\": muon_pt[cut_full_event][cut_muon[cut_full_event]], \n",
    "     \"eta\": muon_eta[cut_full_event][cut_muon[cut_full_event]], \n",
    "     \"phi\": muon_phi[cut_full_event][cut_muon[cut_full_event]], \n",
    "     \"mass\": muon_mass[cut_full_event][cut_muon[cut_full_event]]},\n",
    "    with_name=\"Momentum4D\",\n",
    ")\n",
    "\n",
    "jets = ak.zip(\n",
    "    {\"pt\": jet_pt[cut_full_event][cut_jet[cut_full_event]][:,0], \n",
    "     \"eta\": jet_eta[cut_full_event][cut_jet[cut_full_event]][:,0], \n",
    "     \"phi\": jet_phi[cut_full_event][cut_jet[cut_full_event]][:,0], \n",
    "     \"mass\": jet_mass[cut_full_event][cut_jet[cut_full_event]][:,0]},\n",
    "    with_name=\"Momentum4D\",\n",
    ")\n",
    "\n",
    "met = ak.zip(\n",
    "    {\"pt\": met_pt[cut_full_event], \n",
    "     \"eta\": met_eta[cut_full_event], \n",
    "     \"phi\": met_phi[cut_full_event], \n",
    "     \"mass\": 0},\n",
    "    with_name=\"Momentum4D\",\n",
    ")"
   ]
  },
  {
   "cell_type": "code",
   "execution_count": 92,
   "id": "3563415f-bf50-4501-ac1e-ec1dbf1cfa13",
   "metadata": {},
   "outputs": [],
   "source": [
    "p4mu,p4fj,p4j,p4met = ak.unzip(ak.cartesian([muons, fatjets, jets, met]))\n",
    "p4tot = p4mu + p4fj + p4j + p4met"
   ]
  },
  {
   "cell_type": "code",
   "execution_count": 93,
   "id": "cccdd9f2-7707-4089-8b3c-e5da0eae1ed2",
   "metadata": {},
   "outputs": [
    {
     "data": {
      "image/png": "[encoded data removed]",
      "text/plain": [
       "<Figure size 432x288 with 1 Axes>"
      ]
     },
     "metadata": {
      "needs_background": "light"
     },
     "output_type": "display_data"
    }
   ],
   "source": [
    "plt.hist(ak.flatten(p4tot.mass),bins=50, range=(0,7000));\n"
   ]
  },
  {
   "cell_type": "code",
   "execution_count": 94,
   "id": "495b9bfa-671c-41b4-adeb-a85318deeef8",
   "metadata": {},
   "outputs": [
    {
     "name": "stdout",
     "output_type": "stream",
     "text": [
      "[[1.66e+03], [625], [1.55e+03], [1.5e+03, ... [1.09e+03], [952], [1.85e+03]]\n",
      "[[210], [248], [210], [58.7], [64.5], ... [130], [263], [148], [96.3], [58.9]]\n",
      "597\n",
      "597\n",
      "597\n",
      "597\n",
      "597\n",
      "output_tt_semilep_08FCB2ED-176B-064B-85AB-37B898773B98.csv\n"
     ]
    }
   ],
   "source": [
    "weights = events['genWeight'].array()\n",
    "nTrueInt = events['Pileup_nTrueInt'].array()\n",
    "\n",
    "mydict = {}\n",
    "print(p4tot.mass)\n",
    "print(p4mu.pt)\n",
    "mydict['mtt'] = ak.flatten(p4tot.mass)\n",
    "mydict['mu_pt'] = ak.flatten(p4mu.pt) \n",
    "mydict['mu_abseta'] = np.abs(ak.flatten(p4mu.eta))\n",
    "mydict['weight'] = weights[cut_full_event]\n",
    "mydict['pileup'] = nTrueInt[cut_full_event]\n",
    "\n",
    "print(len(mydict['mtt']))\n",
    "print(len(mydict['mu_pt']))\n",
    "print(len(mydict['mu_abseta']))\n",
    "print(len(mydict['weight']))\n",
    "print(len(mydict['pileup']))\n",
    "\n",
    "df = pd.DataFrame.from_dict(mydict)\n",
    "\n",
    "df\n",
    "\n",
    "outfilename = f\"output_{dataset}_{filename.split('/')[-1].split('.')[0]}.csv\"\n",
    "print(outfilename)\n",
    "\n",
    "df.to_csv(outfilename, index=False)"
   ]
  },
  {
   "cell_type": "code",
   "execution_count": null,
   "id": "282892d2-7b1a-4825-9780-b251d9c3cd11",
   "metadata": {},
   "outputs": [],
   "source": []
  }
 ],
 "metadata": {
  "kernelspec": {
   "display_name": "Python 3 (ipykernel)",
   "language": "python",
   "name": "python3"
  },
  "language_info": {
   "codemirror_mode": {
    "name": "ipython",
    "version": 3
   },
   "file_extension": ".py",
   "mimetype": "text/x-python",
   "name": "python",
   "nbconvert_exporter": "python",
   "pygments_lexer": "ipython3",
   "version": "3.10.5"
  }
 },
 "nbformat": 4,
 "nbformat_minor": 5
}
